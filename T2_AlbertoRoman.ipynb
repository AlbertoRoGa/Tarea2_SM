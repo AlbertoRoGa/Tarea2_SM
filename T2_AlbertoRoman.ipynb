{
 "cells": [
  {
   "cell_type": "markdown",
   "metadata": {},
   "source": [
    "# Resumen para el Día 31/08/2020\n",
    "## Primer articulo: [_\"Programming language of the year? Python is standout in latest rankings\"_](https://www.zdnet.com/article/programming-language-of-the-year-python-is-standout-in-latest-rankings/)\n",
    "Gracias a este articulo, podemos saber un poco de la historia de como Python es que, año con año, va ganando terreno a grandes pasos en el mundo de la programación, venciendo a algunos de sus competidores como lo es [**Visual Basisc .NET**](https://en.wikipedia.org/wiki/Visual_Basic) y muchos otros.\\\n",
    "Python rápidamente escaló hasta el 3er lenguaje más usado de todos, muchas veces es el primer lenguaje enseñado en las universidades y es el seleccionado por eccelencia para el análisis de estadisticas, *Machine learning* , computación cientifica y programación web.\\\n",
    "Curiosamente es el lenguaje más popular entre hackers, gracias a que es fácil de usar y entender su sintaxis. \\\n",
    "Popularmente tiene un cantidad inmensa de librerias publicas que cualquier persona puede utilizar, por lo que es una de las mejores opciones donde invertir tiempo, gracias a la abundante información que existe en general. \\\n",
    "Por muchas cosas más, Python es el lenguaje numero 3 en la lista de los lenguajes más usados, por lo que es muy importante saber usarlo para los próximos años.\n",
    "## Segundo artículo: [_\"5 reasons you should learn Python now\"_](https://www.pluralsight.com/blog/software-development/why-python)\n",
    "De nueva cuenta se nos demuestra con 5 puntos, las diferentes razones por las cuales usar python, además de recordarnos la importancia del lenguaje hoy en día, siendo el mas enseñado para la introducción al mundo de la programacion en las universidades. \\\n",
    "Phyton es sencillo de usar, es potente y versatil, volviendolo una gran eleccion para experimentados como novatos. Ya que te permite pensar como un programador y no perder tiempo con la syntaxis que llega as er muy complicada con otros lenguajes. Siendo una version minimalista de muchos competidores. \\\n",
    "Como ejemplo, se nos dice que el cliente de escritorio de [**Dropbox**](https://es.wikipedia.org/wiki/Dropbox) está completamente programado en Python, y la razón por la que es ejemplo, es poruq ela plataforma tiene 400 millones de usuarios y curiosamente es el lenguje más usado en la compañia. \\\n",
    "Google utiliza una mezcla entre C++, python y Go, pero hace no mucho tiempo, en google se estableció que se usara Phyton en donde se pudiera y C++ donde se debiera, no más, demostrando el compromiso de la empresa en trasladar sus codigos a python. \\\n",
    "Muchas compañias sumamente grandes están prefiriendo usar Phyton  por si consola [API](https://support.google.com/googleapi/answer/7015000?hl=en) tan interactiva, ya que permite a los desarrolladores explorar puntos finales por su fácil interface, además que claro tiene un analisis de datos muy superior, como un respaldo  de un servidr DNS y demás.\n",
    "Pero al final existen mil y un razones más para utilizar python, sólo depende de cada uno empezar a utilizarlo, ya que como se ha podido ver, las más grandes compañias buscan mudar sus codigos a un lenguaje más amigable.\n",
    "\n",
    "\n"
   ]
  },
  {
   "cell_type": "code",
   "execution_count": null,
   "metadata": {},
   "outputs": [],
   "source": []
  }
 ],
 "metadata": {
  "kernelspec": {
   "display_name": "Python 3",
   "language": "python",
   "name": "python3"
  },
  "language_info": {
   "codemirror_mode": {
    "name": "ipython",
    "version": 3
   },
   "file_extension": ".py",
   "mimetype": "text/x-python",
   "name": "python",
   "nbconvert_exporter": "python",
   "pygments_lexer": "ipython3",
   "version": "3.8.3"
  }
 },
 "nbformat": 4,
 "nbformat_minor": 4
}
